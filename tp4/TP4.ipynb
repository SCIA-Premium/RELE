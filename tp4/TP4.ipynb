{
 "cells": [
  {
   "cell_type": "markdown",
   "id": "55339855-cf14-4697-a122-4b54a92c6f6b",
   "metadata": {},
   "source": [
    "# TP4 : model-free RL \n",
    "\n",
    "Jusqu'à lors, nous avons étudié des cas où le modèle de la matrice de transition et de la récompense étaient modélisés : c'est le cadre du *model-based reinforcement learning*. \n",
    "Pour gérer des cas plus complexes, nous devons soulager ces hypothèses. Dans le *model-free reinforcement learning*, on regarde les expériences passées, échecs comme réussites, pour simuler le modèle sous-jacent.\n",
    "\n",
    "Ce TP propose d'implémenter plusieurs algorithmes allant dans ce sens.\n",
    "\n",
    "\n",
    "RAPPEL : 1/4 de la note finale est liée à la mise en forme : \n",
    "\n",
    "* pensez à nettoyer les outputs inutiles (installation, messages de débuggage, ...)\n",
    "* soignez vos figures : les axes sont-ils faciles à comprendre ? L'échelle est adaptée ? \n",
    "* commentez vos résultats : vous attendiez-vous à les avoir ? Est-ce étonnant ? Faites le lien avec la théorie.\n",
    "\n",
    "Ce TP reprend l'exemple d'un médecin et de ses vaccins. Vous allez comparer plusieurs stratégies et trouver celle optimale.\n",
    "Un TP se fait en groupe de 2 à 4. Aucun groupe de plus de 4 personnes. \n",
    "\n",
    "Vous allez rendre le TP dans une archive ZIP. L'archive ZIP contient ce notebook au format `ipynb`, mais aussi exporté en PDF & HTML. \n",
    "L'archive ZIP doit aussi contenir un fichier txt appelé `groupe.txt` sous le format:\n",
    "\n",
    "```\n",
    "Nom1, Prenom1, Email1, NumEtudiant1\n",
    "Nom2, Prenom2, Email2, NumEtudiant2\n",
    "Nom3, Prenom3, Email3, NumEtudiant3\n",
    "Nom4, Prenom4, Email4, NumEtudiant4\n",
    "```\n",
    "\n",
    "Un script vient extraire vos réponses : ne changez pas l'ordre des cellules et soyez sûrs que les graphes sont bien présents dans la version notebook soumise. "
   ]
  },
  {
   "cell_type": "code",
   "execution_count": null,
   "id": "e82f9115-21f6-4931-8920-e3be1555e289",
   "metadata": {},
   "outputs": [],
   "source": [
    "! pip install numpy matplotlib 'gym[toy_text, classic_control]'\n",
    "# Pour gérer les dépendances de PyGame: https://www.pygame.org/wiki/Compilation\n",
    "# A cause de PyGame, la version de Python doit être inférieure à 3.10 !"
   ]
  },
  {
   "cell_type": "code",
   "execution_count": 2,
   "id": "8ede7081-b933-476b-9d38-87d752a87777",
   "metadata": {},
   "outputs": [],
   "source": [
    "%load_ext autoreload\n",
    "%autoreload 2\n",
    "import random\n",
    "#XVFB will be launched if you run on a server\n",
    "import os\n",
    "if type(os.environ.get(\"DISPLAY\")) is not str or len(os.environ.get(\"DISPLAY\"))==0:\n",
    "    !bash ../xvfb start\n",
    "    %env DISPLAY=:1\n",
    "    \n",
    "import numpy as np\n",
    "import matplotlib.pyplot as plt\n",
    "%matplotlib inline\n",
    "from IPython.display import clear_output\n",
    "import gym"
   ]
  },
  {
   "cell_type": "markdown",
   "id": "659ea33d-04c0-401e-af52-f972be093985",
   "metadata": {},
   "source": [
    "## Présentation de Gym\n",
    "Dans ce TP, nous allons utiliser le simulateur Gym par Open AI. Gym fournit une série d'environnements qui ont permis aux chercheurs de se comparer et ainsi, de faire accélérer la recherche en reinforcement learning."
   ]
  },
  {
   "cell_type": "code",
   "execution_count": 4,
   "id": "2bbfe25c-6c12-46ac-9c54-6229d5ba8bdd",
   "metadata": {},
   "outputs": [],
   "source": [
    "env = gym.make(\"Taxi-v3\", render_mode=\"rgb_array\")\n",
    "\n",
    "env.reset()\n",
    "for _ in range(10):\n",
    "    env.render()\n",
    "    env.step(env.action_space.sample()) # Take a random action\n",
    "    \n",
    "env.close()"
   ]
  },
  {
   "cell_type": "markdown",
   "id": "db5b0202-7a52-4648-87fa-dfccd1d6e179",
   "metadata": {},
   "source": [
    "**Q1. Décrire l'environnement Taxi. En particulier, vous vous demanderez quel est l'espace d'action ? Des états ? Comment est définie la récompense ? Que contient l'output de `env.step` ?**\n",
    "\n",
    "La documentation de cet environnement est disponible ici:\n",
    "    [https://www.gymlibrary.dev/api/core/#gym.Env.step](https://www.gymlibrary.dev/api/core/#gym.Env.step)"
   ]
  },
  {
   "cell_type": "markdown",
   "id": "1208b78d-bbcb-4023-95db-4622e47bca86",
   "metadata": {},
   "source": [
    "L'environnement Taxi est un parking avec plusieurs éléments. Il y a quatre emplacements désignés dans le monde de la grille indiqués par R (ed), G (reen), Y (ellow) et B (lue). Lorsque l'épisode commence, le taxi démarre sur une case aléatoire et le passager se trouve à un endroit aléatoire. Le taxi se rend à l'emplacement du passager, prend le passager, le conduit jusqu'à sa destination (un autre des quatre emplacements spécifiés), puis dépose le passager. Une fois le passager déposé, l'épisode se termine.\n",
    "\n",
    "Il existe 6 actions déterministes discrètes :\n",
    "* 0 : se déplacer vers le sud\n",
    "* 1 : se déplacer vers le nord\n",
    "* 2 : se déplacer vers l'est\n",
    "* 3 : se déplacer vers l'ouest\n",
    "* 4 : passager de ramassage\n",
    "* 5 : déposer un passager\n",
    "\n",
    "L'output de `env.step` est un Tuple[ObsType, float, bool, bool, dict], il contient :\n",
    "\n",
    "* observation (objet) - ce sera un élément de l'espace d'observation de l'environnement. Cela peut, par exemple, être un tableau numpy contenant les positions et les vitesses de certains objets.\n",
    "* reward (float) - Le montant de la récompense retournée à la suite de l'action.\n",
    "* terminated (bool) – si un état terminal est atteint. Dans ce cas, d'autres appels step() pourraient renvoyer des résultats indéfinis.\n",
    "* truncated (bool) – Généralement une limite de temps, mais peut également être utilisée pour indiquer que l'agent sort physiquement des limites. Peut être utilisé pour mettre fin à l'épisode prématurément avant qu'un état terminal ne soit atteint.\n",
    "* info (dict) - info contient des informations de diagnostic auxiliaires (utiles pour le débogage, l'apprentissage et la journalisation). Cela peut, par exemple, contenir : des métriques qui décrivent l'état de performance de l'agent, des variables qui sont masquées dans les observations ou des termes de récompense individuels qui sont combinés pour produire la récompense totale. Il peut également contenir des informations qui distinguent la troncature et la terminaison, mais cela est déconseillé en faveur du retour de deux booléens, et sera supprimé dans une future version."
   ]
  },
  {
   "cell_type": "markdown",
   "id": "90446e1c-0cd7-423e-b887-591cd39ee473",
   "metadata": {},
   "source": [
    "## Q-Learning"
   ]
  },
  {
   "cell_type": "markdown",
   "id": "8172a4c1-1fac-4cc0-ad4f-eaf34ff6c070",
   "metadata": {},
   "source": [
    "Dans cette partie, nous allons utiliser le Q-Learning pour résoudre cette tâche."
   ]
  },
  {
   "cell_type": "code",
   "execution_count": 8,
   "id": "7cb761a5-c886-45d4-96c6-1c8b86037773",
   "metadata": {},
   "outputs": [
    {
     "name": "stdout",
     "output_type": "stream",
     "text": [
      "mean reward -9.4\n"
     ]
    },
    {
     "data": {
      "image/png": "[encoded data removed]",
      "text/plain": [
       "<Figure size 432x288 with 1 Axes>"
      ]
     },
     "metadata": {
      "needs_background": "light"
     },
     "output_type": "display_data"
    }
   ],
   "source": [
    "from qlearning import QLearningAgent\n",
    "\n",
    "env = gym.make(\"Taxi-v3\", render_mode=\"rgb_array\")\n",
    "n_actions = env.action_space.n\n",
    "\n",
    "agent = QLearningAgent(\n",
    "    learning_rate=0.5,\n",
    "    epsilon=0.25,\n",
    "    gamma=0.99,\n",
    "    legal_actions=list(range(n_actions))\n",
    ")\n",
    "\n",
    "def play_and_train(env: gym.core.Env, agent: QLearningAgent, t_max=int(1e4)) -> float:\n",
    "    \"\"\"\n",
    "    This function should \n",
    "    - run a full game, actions given by agent.getAction(s)\n",
    "    - train agent using agent.update(...) whenever possible\n",
    "    - return total rewardb\n",
    "    \"\"\"\n",
    "    total_reward = 0.0\n",
    "    s, info = env.reset()\n",
    "    \n",
    "    for t in range(t_max):\n",
    "        # TODO get agent to pick action given state s\n",
    "        a = agent.get_action(s)\n",
    "        \n",
    "        next_s, r, done, truncated, info = env.step(a)\n",
    "\n",
    "        # TODO train agent for state s\n",
    "        agent.update(s, a, r, next_s)\n",
    "        \n",
    "        s = next_s\n",
    "        total_reward += r\n",
    "        if done:\n",
    "            break\n",
    "        \n",
    "    return total_reward\n",
    "\n",
    "rewards = []\n",
    "for i in range(1000):\n",
    "    rewards.append(play_and_train(env,agent))    \n",
    "    if i % 100 ==0:\n",
    "        clear_output(True)\n",
    "        print(\"mean reward\",np.mean(rewards[-100:]))\n",
    "        plt.plot(rewards)\n",
    "        plt.show()"
   ]
  },
  {
   "cell_type": "markdown",
   "id": "f88b6f0e-2615-475c-ad5b-6617222e5842",
   "metadata": {},
   "source": [
    "**Q2. Complétez les bouts manquants de code dans `qlearning.py` et dans la fonction `play_and_train`. Entrainez l'agent. Que se passe-t'il ? Regardez des exemples de trajectoire.**"
   ]
  },
  {
   "cell_type": "code",
   "execution_count": null,
   "id": "36f217a9-0824-48dd-933d-5adf7e27b1c7",
   "metadata": {},
   "outputs": [],
   "source": []
  },
  {
   "cell_type": "markdown",
   "id": "48490cf6-0dc5-4f03-a354-7e54058ca0a4",
   "metadata": {},
   "source": [
    "## Réduire epsilon au-fur-et-à-mesure\n",
    "\n",
    "Pour améliorer les performances, nous allons réduire $\\epsilon$ au cours du temps.\n",
    "\n",
    "La manière la plus simple consiste à réduire $\\epsilon$ à chaque épisode, par exemple en le multipliant par un nombre proche de 1 (tel que 0.99) ou lui soustraire un pettit nombre. Vous pouvez, bien sûr, envisager d'autres stratégies !\n",
    "\n",
    "**Q3. Améliorez l'algorithme dans `q_learning_eps_scheduling.py` de sorte à avoir une récompense positive**"
   ]
  },
  {
   "cell_type": "code",
   "execution_count": 14,
   "id": "d3dd6baf-a206-47bd-b978-f3e9cd59fde6",
   "metadata": {
    "tags": []
   },
   "outputs": [
    {
     "name": "stdout",
     "output_type": "stream",
     "text": [
      "mean reward 7.98\n"
     ]
    },
    {
     "data": {
      "image/png": "[encoded data removed]",
      "text/plain": [
       "<Figure size 432x288 with 1 Axes>"
      ]
     },
     "metadata": {
      "needs_background": "light"
     },
     "output_type": "display_data"
    }
   ],
   "source": [
    "from qlearning_eps_scheduling import QLearningAgentEpsScheduling\n",
    "\n",
    "agent = QLearningAgentEpsScheduling(\n",
    "    learning_rate=0.5,\n",
    "    epsilon=0.25,\n",
    "    gamma=0.99,\n",
    "    legal_actions=list(range(n_actions))\n",
    ")\n",
    "\n",
    "rewards = []\n",
    "for i in range(1000):\n",
    "    rewards.append(play_and_train(env,agent))    \n",
    "    if i % 100 ==0:\n",
    "        clear_output(True)\n",
    "        print(\"mean reward\",np.mean(rewards[-100:]))\n",
    "        plt.plot(rewards)\n",
    "        plt.show()"
   ]
  },
  {
   "cell_type": "markdown",
   "id": "fe545baf-9a53-47cc-8d47-18a886b933f4",
   "metadata": {},
   "source": [
    "*[Ajoutez votre réponse ici]*"
   ]
  },
  {
   "cell_type": "markdown",
   "id": "e7106d2e-55c6-4ffa-a732-a32e12159dce",
   "metadata": {},
   "source": [
    "**Q4. Produisez quelques vidéos des trajectoires obtenus. Rassemblez des cas de réussite et des cas d'échecs**"
   ]
  },
  {
   "cell_type": "markdown",
   "id": "d6cbe8e3-1790-441d-8b43-57f18df41e4d",
   "metadata": {},
   "source": [
    "## Espace d'action continu\n",
    "\n",
    "Nous allons maintenant passer à un environnement plus difficile : le pendule inversé. C'est un grand classique des problèmes de contrôle !\n",
    "\n",
    "Puisque l'environnement a un espace d'actions continu, nous allons discrétiser cet espace pour revenir aux cas précédemment étudiés.\n",
    "La solution la plus simple pour cela consiste à diviser l'espace en sections égales. Mais comment choisir le nombre de sections ?"
   ]
  },
  {
   "cell_type": "code",
   "execution_count": 19,
   "id": "4570b6ee-297a-4136-ab66-59adb3f2dab9",
   "metadata": {},
   "outputs": [
    {
     "name": "stdout",
     "output_type": "stream",
     "text": [
      "first state:  (array([ 0.0189369 , -0.04315899,  0.01599395,  0.03094618], dtype=float32), {})\n"
     ]
    },
    {
     "data": {
      "image/png": "[encoded data removed]",
      "text/plain": [
       "<Figure size 432x288 with 1 Axes>"
      ]
     },
     "metadata": {
      "needs_background": "light"
     },
     "output_type": "display_data"
    }
   ],
   "source": [
    "env = gym.make(\"CartPole-v1\", render_mode=\"rgb_array\")\n",
    "n_actions = env.action_space.n\n",
    "\n",
    "print(\"first state: \", env.reset())\n",
    "plt.imshow(env.render())\n",
    "env.close()"
   ]
  },
  {
   "cell_type": "markdown",
   "id": "fc5417ec-eb7e-48fb-aa0c-6bbc8fd5b436",
   "metadata": {},
   "source": [
    "**Q5. Décrivez cet environnement à l'aide de la documentation de Gym en reprenant la Q1.**"
   ]
  },
  {
   "cell_type": "markdown",
   "id": "2d67baed-4bfc-4a59-a76a-dbbc19cbbd2c",
   "metadata": {},
   "source": [
    "Cet environnement correspond à la version du problème du chariot décrit par Barto, Sutton et Anderson dans \"Neuronlike Adaptive Elements That Can Solve Difficult Learning Control Problem\". Un poteau est attaché par une articulation non actionnée à un chariot, qui se déplace le long d'une piste sans frottement. Le pendule est placé debout sur le chariot et le but est d'équilibrer la perche en appliquant des forces dans la direction gauche et droite sur le chariot.\n",
    "\n",
    "L'action est un array de forme (1,) qui peut prendre des valeurs {0, 1} indiquant la direction de la force fixe avec laquelle le chariot est poussé.\n",
    "Remarque : La vitesse qui est réduite ou augmentée par la force appliquée n'est pas fixe et dépend de l'angle vers lequel pointe la perche. Le centre de gravité du poteau fait varier la quantité d'énergie nécessaire pour déplacer le chariot en dessous.\n",
    "\n",
    "Puisque le but est de maintenir le poteau droit le plus longtemps possible, une récompense de +1 pour chaque pas effectué, y compris le pas de terminaison, est attribuée."
   ]
  },
  {
   "cell_type": "markdown",
   "id": "3514cb53-9981-4fd5-8f7d-652de722c0a3",
   "metadata": {},
   "source": [
    "Pour mener à bien notre discrétisation de l'espace des actions, nous allons estimer la distribution des observations."
   ]
  },
  {
   "cell_type": "markdown",
   "id": "8cdee467-d593-4be0-85b5-20c11b2725d0",
   "metadata": {},
   "source": [
    "**Q6. Simulez 1000 épisodes et regardez la distribution des états à l'aide d'un histogramme. Quel paramètre vous paraît optimal pour choisir le nombre de `bins` ?**"
   ]
  },
  {
   "cell_type": "code",
   "execution_count": 33,
   "id": "89ac1824-18e8-419f-9e47-cea3926512bd",
   "metadata": {},
   "outputs": [
    {
     "data": {
      "image/png": "[encoded data removed]",
      "text/plain": [
       "<Figure size 864x576 with 4 Axes>"
      ]
     },
     "metadata": {
      "needs_background": "light"
     },
     "output_type": "display_data"
    }
   ],
   "source": [
    "# Simulate 1000 steps and check the state distribution with a histogram\n",
    "env = gym.make(\"CartPole-v1\", render_mode=\"rgb_array\")\n",
    "env.reset()\n",
    "\n",
    "states = []\n",
    "for _ in range(1000):\n",
    "    states.append(env.step(env.action_space.sample())[0])\n",
    "\n",
    "env.close()\n",
    "\n",
    "# Plot the 4 dimensions of the state\n",
    "plt.figure(figsize=(12, 8))\n",
    "for i in range(4):\n",
    "    plt.subplot(2, 2, i + 1)\n",
    "    plt.hist([s[i] for s in states])\n",
    "    plt.title(\"Dimension {}\".format(i))\n",
    "plt.tight_layout()"
   ]
  },
  {
   "cell_type": "markdown",
   "id": "0a231538-b6a3-4420-9b73-965d958c8d74",
   "metadata": {},
   "source": [
    "// TODO"
   ]
  },
  {
   "cell_type": "markdown",
   "id": "6ff90a63-5b02-4055-bdca-7a6a9c8eb1aa",
   "metadata": {},
   "source": [
    "## Discrétiser l'environnement"
   ]
  },
  {
   "cell_type": "code",
   "execution_count": 51,
   "id": "eef258ed-07aa-452a-94f8-dcce941915a9",
   "metadata": {
    "tags": []
   },
   "outputs": [],
   "source": [
    "from gym.core import ObservationWrapper\n",
    "\n",
    "class Binarizer(ObservationWrapper):\n",
    "    def _observation(self, state: np.ndarray) -> np.ndarray:  \n",
    "        # TODO binarize each dimension of the state\n",
    "        slide = 1.5\n",
    "        n_digits = [0, 1, 1, 1]\n",
    "        state = [round(s*slide, n_digit)/slide for s, n_digit in zip(state, n_digits)]\n",
    "        return tuple(state)\n",
    "\n",
    "bi_env = Binarizer(gym.make(\"CartPole-v0\"))"
   ]
  },
  {
   "cell_type": "markdown",
   "id": "211e08b3-ca10-4377-9d86-2571439f5cbb",
   "metadata": {},
   "source": [
    "**Q7. Complétez le code ci-dessus pour binariser l'environnement. Regardez la nouvelle distribution des états. Qu'en pensez-vous ?**"
   ]
  },
  {
   "cell_type": "code",
   "execution_count": 52,
   "id": "fca4be48-f1d8-4eab-a271-957c8b45d4db",
   "metadata": {},
   "outputs": [
    {
     "ename": "NotImplementedError",
     "evalue": "",
     "output_type": "error",
     "traceback": [
      "\u001b[0;31m---------------------------------------------------------------------------\u001b[0m",
      "\u001b[0;31mNotImplementedError\u001b[0m                       Traceback (most recent call last)",
      "\u001b[1;32m/home/bictole/Documents/RELE/tp4/TP4.ipynb Cell 28\u001b[0m in \u001b[0;36m<cell line: 2>\u001b[0;34m()\u001b[0m\n\u001b[1;32m      <a href='vscode-notebook-cell:/home/bictole/Documents/RELE/tp4/TP4.ipynb#X36sZmlsZQ%3D%3D?line=0'>1</a>\u001b[0m \u001b[39m# Simulate 1000 steps and check the state distribution with a histogram\u001b[39;00m\n\u001b[0;32m----> <a href='vscode-notebook-cell:/home/bictole/Documents/RELE/tp4/TP4.ipynb#X36sZmlsZQ%3D%3D?line=1'>2</a>\u001b[0m bi_env\u001b[39m.\u001b[39mreset()\n\u001b[1;32m      <a href='vscode-notebook-cell:/home/bictole/Documents/RELE/tp4/TP4.ipynb#X36sZmlsZQ%3D%3D?line=2'>3</a>\u001b[0m bi_states \u001b[39m=\u001b[39m []\n\u001b[1;32m      <a href='vscode-notebook-cell:/home/bictole/Documents/RELE/tp4/TP4.ipynb#X36sZmlsZQ%3D%3D?line=3'>4</a>\u001b[0m \u001b[39mfor\u001b[39;00m _ \u001b[39min\u001b[39;00m \u001b[39mrange\u001b[39m(\u001b[39m1000\u001b[39m):\n",
      "File \u001b[0;32m~/.local/lib/python3.10/site-packages/gym/core.py:380\u001b[0m, in \u001b[0;36mObservationWrapper.reset\u001b[0;34m(self, **kwargs)\u001b[0m\n\u001b[1;32m    378\u001b[0m \u001b[39m\"\"\"Resets the environment, returning a modified observation using :meth:`self.observation`.\"\"\"\u001b[39;00m\n\u001b[1;32m    379\u001b[0m obs, info \u001b[39m=\u001b[39m \u001b[39mself\u001b[39m\u001b[39m.\u001b[39menv\u001b[39m.\u001b[39mreset(\u001b[39m*\u001b[39m\u001b[39m*\u001b[39mkwargs)\n\u001b[0;32m--> 380\u001b[0m \u001b[39mreturn\u001b[39;00m \u001b[39mself\u001b[39;49m\u001b[39m.\u001b[39;49mobservation(obs), info\n",
      "File \u001b[0;32m~/.local/lib/python3.10/site-packages/gym/core.py:389\u001b[0m, in \u001b[0;36mObservationWrapper.observation\u001b[0;34m(self, observation)\u001b[0m\n\u001b[1;32m    387\u001b[0m \u001b[39mdef\u001b[39;00m \u001b[39mobservation\u001b[39m(\u001b[39mself\u001b[39m, observation):\n\u001b[1;32m    388\u001b[0m     \u001b[39m\"\"\"Returns a modified observation.\"\"\"\u001b[39;00m\n\u001b[0;32m--> 389\u001b[0m     \u001b[39mraise\u001b[39;00m \u001b[39mNotImplementedError\u001b[39;00m\n",
      "\u001b[0;31mNotImplementedError\u001b[0m: "
     ]
    }
   ],
   "source": [
    "# Simulate 1000 steps and check the state distribution with a histogram\n",
    "bi_env.reset()\n",
    "bi_states = []\n",
    "for _ in range(1000):\n",
    "    bi_states.append(bi_env.step(bi_env.action_space.sample())[0])\n",
    "\n",
    "bi_env.close()\n",
    "\n",
    "# Plot the 4 dimensions of the state\n",
    "plt.figure(figsize=(12, 8))\n",
    "for i in range(4):\n",
    "    plt.subplot(2, 2, i + 1)\n",
    "    plt.hist([s[i] for s in bi_states])\n",
    "    plt.title(\"Dimension {}\".format(i))\n",
    "plt.tight_layout()"
   ]
  },
  {
   "cell_type": "markdown",
   "id": "598a8ca4-d6b4-407c-8cfc-c870732fbb4a",
   "metadata": {},
   "source": [
    "*[Ajoutez votre réponse ici]*"
   ]
  },
  {
   "cell_type": "markdown",
   "id": "02d1b63f-465a-4006-96c3-35d8e921c25e",
   "metadata": {},
   "source": [
    "### Apprentissage sur l'environnement discretisé"
   ]
  },
  {
   "cell_type": "markdown",
   "id": "d9944bf8-830c-4645-9df6-3fd471360b2e",
   "metadata": {},
   "source": [
    "**Q8. Reprenez votre agent pour résoudre cette tâche. Tracez la récompense et observez quelques trajectoires d'échecs et de réussites à l'aide de vidéos**"
   ]
  },
  {
   "cell_type": "code",
   "execution_count": 45,
   "id": "0da18223-f328-48f3-9643-e1c9dba17ba8",
   "metadata": {},
   "outputs": [
    {
     "ename": "NotImplementedError",
     "evalue": "",
     "output_type": "error",
     "traceback": [
      "\u001b[0;31m---------------------------------------------------------------------------\u001b[0m",
      "\u001b[0;31mNotImplementedError\u001b[0m                       Traceback (most recent call last)",
      "\u001b[1;32m/home/bictole/Documents/RELE/tp4/TP4.ipynb Cell 32\u001b[0m in \u001b[0;36m<cell line: 40>\u001b[0;34m()\u001b[0m\n\u001b[1;32m     <a href='vscode-notebook-cell:/home/bictole/Documents/RELE/tp4/TP4.ipynb#X43sZmlsZQ%3D%3D?line=38'>39</a>\u001b[0m rewards \u001b[39m=\u001b[39m []\n\u001b[1;32m     <a href='vscode-notebook-cell:/home/bictole/Documents/RELE/tp4/TP4.ipynb#X43sZmlsZQ%3D%3D?line=39'>40</a>\u001b[0m \u001b[39mfor\u001b[39;00m i \u001b[39min\u001b[39;00m \u001b[39mrange\u001b[39m(\u001b[39m1000\u001b[39m):\n\u001b[0;32m---> <a href='vscode-notebook-cell:/home/bictole/Documents/RELE/tp4/TP4.ipynb#X43sZmlsZQ%3D%3D?line=40'>41</a>\u001b[0m     rewards\u001b[39m.\u001b[39mappend(play_and_train(bi_env,agent))    \n\u001b[1;32m     <a href='vscode-notebook-cell:/home/bictole/Documents/RELE/tp4/TP4.ipynb#X43sZmlsZQ%3D%3D?line=41'>42</a>\u001b[0m     \u001b[39mif\u001b[39;00m i \u001b[39m%\u001b[39m \u001b[39m100\u001b[39m \u001b[39m==\u001b[39m\u001b[39m0\u001b[39m:\n\u001b[1;32m     <a href='vscode-notebook-cell:/home/bictole/Documents/RELE/tp4/TP4.ipynb#X43sZmlsZQ%3D%3D?line=42'>43</a>\u001b[0m         clear_output(\u001b[39mTrue\u001b[39;00m)\n",
      "\u001b[1;32m/home/bictole/Documents/RELE/tp4/TP4.ipynb Cell 32\u001b[0m in \u001b[0;36mplay_and_train\u001b[0;34m(env, agent, t_max)\u001b[0m\n\u001b[1;32m     <a href='vscode-notebook-cell:/home/bictole/Documents/RELE/tp4/TP4.ipynb#X43sZmlsZQ%3D%3D?line=13'>14</a>\u001b[0m \u001b[39m\"\"\"\u001b[39;00m\n\u001b[1;32m     <a href='vscode-notebook-cell:/home/bictole/Documents/RELE/tp4/TP4.ipynb#X43sZmlsZQ%3D%3D?line=14'>15</a>\u001b[0m \u001b[39mThis function should \u001b[39;00m\n\u001b[1;32m     <a href='vscode-notebook-cell:/home/bictole/Documents/RELE/tp4/TP4.ipynb#X43sZmlsZQ%3D%3D?line=15'>16</a>\u001b[0m \u001b[39m- run a full game, actions given by agent.getAction(s)\u001b[39;00m\n\u001b[1;32m     <a href='vscode-notebook-cell:/home/bictole/Documents/RELE/tp4/TP4.ipynb#X43sZmlsZQ%3D%3D?line=16'>17</a>\u001b[0m \u001b[39m- train agent using agent.update(...) whenever possible\u001b[39;00m\n\u001b[1;32m     <a href='vscode-notebook-cell:/home/bictole/Documents/RELE/tp4/TP4.ipynb#X43sZmlsZQ%3D%3D?line=17'>18</a>\u001b[0m \u001b[39m- return total rewardb\u001b[39;00m\n\u001b[1;32m     <a href='vscode-notebook-cell:/home/bictole/Documents/RELE/tp4/TP4.ipynb#X43sZmlsZQ%3D%3D?line=18'>19</a>\u001b[0m \u001b[39m\"\"\"\u001b[39;00m\n\u001b[1;32m     <a href='vscode-notebook-cell:/home/bictole/Documents/RELE/tp4/TP4.ipynb#X43sZmlsZQ%3D%3D?line=19'>20</a>\u001b[0m total_reward \u001b[39m=\u001b[39m \u001b[39m0.0\u001b[39m\n\u001b[0;32m---> <a href='vscode-notebook-cell:/home/bictole/Documents/RELE/tp4/TP4.ipynb#X43sZmlsZQ%3D%3D?line=20'>21</a>\u001b[0m s, info \u001b[39m=\u001b[39m env\u001b[39m.\u001b[39;49mreset()\n\u001b[1;32m     <a href='vscode-notebook-cell:/home/bictole/Documents/RELE/tp4/TP4.ipynb#X43sZmlsZQ%3D%3D?line=22'>23</a>\u001b[0m \u001b[39mfor\u001b[39;00m t \u001b[39min\u001b[39;00m \u001b[39mrange\u001b[39m(t_max):\n\u001b[1;32m     <a href='vscode-notebook-cell:/home/bictole/Documents/RELE/tp4/TP4.ipynb#X43sZmlsZQ%3D%3D?line=23'>24</a>\u001b[0m     \u001b[39m# TODO get agent to pick action given state s\u001b[39;00m\n\u001b[1;32m     <a href='vscode-notebook-cell:/home/bictole/Documents/RELE/tp4/TP4.ipynb#X43sZmlsZQ%3D%3D?line=24'>25</a>\u001b[0m     a \u001b[39m=\u001b[39m agent\u001b[39m.\u001b[39mget_action(s)\n",
      "File \u001b[0;32m~/.local/lib/python3.10/site-packages/gym/core.py:380\u001b[0m, in \u001b[0;36mObservationWrapper.reset\u001b[0;34m(self, **kwargs)\u001b[0m\n\u001b[1;32m    378\u001b[0m \u001b[39m\"\"\"Resets the environment, returning a modified observation using :meth:`self.observation`.\"\"\"\u001b[39;00m\n\u001b[1;32m    379\u001b[0m obs, info \u001b[39m=\u001b[39m \u001b[39mself\u001b[39m\u001b[39m.\u001b[39menv\u001b[39m.\u001b[39mreset(\u001b[39m*\u001b[39m\u001b[39m*\u001b[39mkwargs)\n\u001b[0;32m--> 380\u001b[0m \u001b[39mreturn\u001b[39;00m \u001b[39mself\u001b[39;49m\u001b[39m.\u001b[39;49mobservation(obs), info\n",
      "File \u001b[0;32m~/.local/lib/python3.10/site-packages/gym/core.py:389\u001b[0m, in \u001b[0;36mObservationWrapper.observation\u001b[0;34m(self, observation)\u001b[0m\n\u001b[1;32m    387\u001b[0m \u001b[39mdef\u001b[39;00m \u001b[39mobservation\u001b[39m(\u001b[39mself\u001b[39m, observation):\n\u001b[1;32m    388\u001b[0m     \u001b[39m\"\"\"Returns a modified observation.\"\"\"\u001b[39;00m\n\u001b[0;32m--> 389\u001b[0m     \u001b[39mraise\u001b[39;00m \u001b[39mNotImplementedError\u001b[39;00m\n",
      "\u001b[0;31mNotImplementedError\u001b[0m: "
     ]
    }
   ],
   "source": [
    "from qlearning import QLearningAgent\n",
    "\n",
    "bi_env = Binarizer(gym.make(\"CartPole-v0\"))\n",
    "n_actions = bi_env.action_space.n\n",
    "\n",
    "agent = QLearningAgent(\n",
    "    learning_rate=0.5,\n",
    "    epsilon=0.25,\n",
    "    gamma=0.99,\n",
    "    legal_actions=list(range(n_actions))\n",
    ")\n",
    "\n",
    "def play_and_train(env: gym.core.Env, agent: QLearningAgent, t_max=int(1e4)) -> float:\n",
    "    \"\"\"\n",
    "    This function should \n",
    "    - run a full game, actions given by agent.getAction(s)\n",
    "    - train agent using agent.update(...) whenever possible\n",
    "    - return total rewardb\n",
    "    \"\"\"\n",
    "    total_reward = 0.0\n",
    "    s, info = env.reset()\n",
    "    \n",
    "    for t in range(t_max):\n",
    "        # TODO get agent to pick action given state s\n",
    "        a = agent.get_action(s)\n",
    "        \n",
    "        next_s, r, done, truncated, info = env.step(a)\n",
    "\n",
    "        # TODO train agent for state s\n",
    "        agent.update(s, a, r, next_s)\n",
    "        \n",
    "        s = next_s\n",
    "        total_reward += r\n",
    "        if done:\n",
    "            break\n",
    "        \n",
    "    return total_reward\n",
    "\n",
    "rewards = []\n",
    "for i in range(1000):\n",
    "    rewards.append(play_and_train(bi_env,agent))    \n",
    "    if i % 100 ==0:\n",
    "        clear_output(True)\n",
    "        print(\"mean reward\",np.mean(rewards[-100:]))\n",
    "        plt.plot(rewards)\n",
    "        plt.show()\n",
    "\n",
    "bi_env.close()"
   ]
  },
  {
   "cell_type": "markdown",
   "id": "d0627c3b-2f9b-434b-9f14-3e30615749e5",
   "metadata": {},
   "source": [
    "*[Ajoutez votre réponse ici]*"
   ]
  },
  {
   "cell_type": "markdown",
   "id": "56af0361-953c-4a03-8e7c-49840c2c9426",
   "metadata": {},
   "source": [
    "## 4. Experience replay \n",
    "\n",
    "Les algorithmes *off-policy* peuvent s'entraîner grâce à des trajectoires anciennement obtenues. Tirons parti de cette propriété pour \n",
    "améliorer l'efficacité de nos algorithmes et les permettre de converger plus rapidement.\n",
    "\n",
    "L'idée générale est de collecter les tuplets `<s,a,r,s'>` dans un *buffer*, puis de mettre à jour la fonction Q sur l'ensemble de ces tuplets.\n",
    "Plus en détails, voici l'algorithme à suivre\n",
    "\n",
    "#### S'entraîner avec un *experience replay*\n",
    "1. Echantillonner un tuplet `<s,a,r,s'>`.\n",
    "2. Stocker ce tuplet dans un buffer FIFO : si le buffer est plein, on supprimer les données arrivées en premier.\n",
    "3. Choisir aléatoirement K tuplets du buffer et mettre à jour la fonction Q sur ces tuplets.\n",
    "\n",
    "**Q9. Implémentez un tel buffer**"
   ]
  },
  {
   "cell_type": "code",
   "execution_count": null,
   "id": "ef979349-b4eb-4d4a-9a5b-4575a0e04d81",
   "metadata": {
    "tags": []
   },
   "outputs": [],
   "source": [
    "class ReplayBuffer(object):\n",
    "    def __init__(self, size):\n",
    "        \"\"\"\n",
    "        Create Replay buffer.\n",
    "        Parameters\n",
    "        ----------\n",
    "        size: int\n",
    "            Max number of transitions to store in the buffer. When the buffer\n",
    "            overflows the old memories are dropped.\n",
    "            \n",
    "        Note: for this assignment you can pick any data structure you want.\n",
    "              If you want to keep it simple, you can store a list of tuples of (s, a, r, s') in self._storage\n",
    "              However you may find out there are faster and/or more memory-efficient ways to do so.\n",
    "        \"\"\"\n",
    "       \n",
    "\n",
    "# Some tests to make sure your buffer works right\n",
    "\n",
    "replay = ReplayBuffer(2)\n",
    "obj1 = tuple(range(5))\n",
    "obj2 = tuple(range(5, 10))\n",
    "replay.add(*obj1)\n",
    "assert replay.sample(1) == obj1, \"If there's just one object in buffer, it must be retrieved by buf.sample(1)\"\n",
    "replay.add(*obj2)\n",
    "assert len(replay._storage) == 2, \"Please make sure __len__ methods works as intended.\"\n",
    "replay.add(*obj2)\n",
    "assert len(replay._storage) == 2, \"When buffer is at max capacity, replace objects instead of adding new ones.\"\n",
    "assert tuple(np.unique(a) for a in replay.sample(100)) == obj2\n",
    "replay.add(*obj1)\n",
    "assert max(len(np.unique(a)) for a in replay.sample(100)) == 2\n",
    "replay.add(*obj1)\n",
    "assert tuple(np.unique(a) for a in replay.sample(100)) == obj1\n",
    "print(\"Success!\")"
   ]
  },
  {
   "cell_type": "markdown",
   "id": "ce711801-4660-44f1-8189-cd91187bf5f0",
   "metadata": {},
   "source": [
    "Maintenant utilisons ce replay buffer pour améliorer les performances d'entraînement.\n",
    "\n",
    "**Q10. Entraînez un agent avec le replay buffer. Comparez l'évolution de la récompense sur l'environnement Taxi avec un algorithme n'utilisant pas le replay buffer.**\n",
    "\n",
    "Pour rendre l'affichage plus visible, vous filterez la récompense avec un filtre de votre choix."
   ]
  },
  {
   "cell_type": "code",
   "execution_count": null,
   "id": "7d34cece-905d-4597-ae71-903c68f11296",
   "metadata": {
    "tags": []
   },
   "outputs": [],
   "source": [
    "agent_baseline = QLearningAgentEpsScheduling(\n",
    "    learning_rate=0.5,\n",
    "    epsilon=0.25,\n",
    "    gamma=0.99,\n",
    "    legal_actions=list(range(n_actions))\n",
    ")\n",
    "\n",
    "agent_replay = QLearningAgentEpsScheduling(\n",
    "    learning_rate=0.5,\n",
    "    epsilon=0.25,\n",
    "    gamma=0.99,\n",
    "    legal_actions=list(range(n_actions))\n",
    ")\n",
    "\n",
    "replay = ReplayBuffer(10000)\n",
    "\n",
    "def play_and_train(\n",
    "    env: gym.core.Env, \n",
    "    agent: QLearningAgent, \n",
    "    t_max: int = int(1e4),\n",
    "    batch_size: int = 32\n",
    ") -> float:\n",
    "    \"\"\"\n",
    "    This function should \n",
    "    - run a full game, actions given by agent.getAction(s)\n",
    "    - train agent using agent.update(...) whenever possible\n",
    "    - return total rewardb\n",
    "    \"\"\"\n",
    "    total_reward = 0.0\n",
    "    s, info = env.reset()\n",
    "    \n",
    "    for t in range(t_max):\n",
    "        # TODO get agent to pick action given state s\n",
    "        a = 0\n",
    "        \n",
    "        next_s, r, done, truncated, info = env.step(a)\n",
    "        \n",
    "        # TODO train agent for state s\n",
    "        # ...\n",
    "        if replay is not None:\n",
    "            # TODO update this part\n",
    "            pass\n",
    "        \n",
    "        s = next_s\n",
    "        total_reward +=r\n",
    "        if done:\n",
    "            break\n",
    "        \n",
    "    return total_reward"
   ]
  },
  {
   "cell_type": "markdown",
   "id": "63da335a-8376-44c1-8ac4-da691cad9b6b",
   "metadata": {},
   "source": [
    "*[Ajoutez votre réponse ici]*"
   ]
  }
 ],
 "metadata": {
  "kernelspec": {
   "display_name": "Python 3.10.8 ('usr')",
   "language": "python",
   "name": "python3"
  },
  "language_info": {
   "codemirror_mode": {
    "name": "ipython",
    "version": 3
   },
   "file_extension": ".py",
   "mimetype": "text/x-python",
   "name": "python",
   "nbconvert_exporter": "python",
   "pygments_lexer": "ipython3",
   "version": "3.10.8"
  },
  "vscode": {
   "interpreter": {
    "hash": "767d51c1340bd893661ea55ea3124f6de3c7a262a8b4abca0554b478b1e2ff90"
   }
  }
 },
 "nbformat": 4,
 "nbformat_minor": 5
}
