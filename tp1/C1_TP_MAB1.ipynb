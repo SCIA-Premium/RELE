{
 "cells": [
  {
   "cell_type": "markdown",
   "metadata": {
    "tags": []
   },
   "source": [
    "# Introduction à l'apprentissage par renforcement\n",
    "# TP 1 - les manchots multi-bras\n",
    "\n",
    "Etudiant·e : AJOUTER VOTRE NOM ICI\n",
    "\n",
    "1/4 de la note finale est liée à la mise en forme : \n",
    "\n",
    "* pensez à nettoyer les outputs inutiles (installation, messages de débuggage, ...)\n",
    "* soignez vos figures : les axes sont-ils faciles à comprendre ? L'échelle est adaptée ? \n",
    "* commentez vos résultats : vous attendiez-vous à les avoir ? Est-ce étonnant ? Faites le lien avec la théorie.\n",
    "\n",
    "Ce TP reprend l'exemple d'un médecin et de ses vaccins. Vous allez comparer plusieurs stratégies et trouver celle optimale.\n",
    "Un TP se fait en groupe de 2 à 4. Aucun groupe de plus de 4 personnes. \n",
    "\n",
    "Vous allez rendre le TP dans une archive ZIP. L'archive ZIP contient ce notebook au format `ipynb`, mais aussi exporté en PDF & HTML. \n",
    "L'archive ZIP doit aussi contenir un fichier txt appelé `groupe.txt` sous le format:\n",
    "\n",
    "```\n",
    "Nom1, Prenom1, Email1, NumEtudiant1\n",
    "Nom2, Prenom2, Email2, NumEtudiant2\n",
    "Nom3, Prenom3, Email3, NumEtudiant3\n",
    "Nom4, Prenom4, Email4, NumEtudiant4\n",
    "```\n",
    "\n",
    "Un script vient extraire vos réponses : ne changez pas l'ordre des cellules et soyez sûrs que les graphes sont bien présents dans la version notebook soumise. "
   ]
  },
  {
   "cell_type": "code",
   "execution_count": 2,
   "metadata": {},
   "outputs": [
    {
     "name": "stdout",
     "output_type": "stream",
     "text": [
      "Defaulting to user installation because normal site-packages is not writeable\n",
      "Requirement already satisfied: matplotlib in /home/bictole/.local/lib/python3.10/site-packages (3.5.2)\n",
      "Requirement already satisfied: tqdm in /home/bictole/.local/lib/python3.10/site-packages (4.63.0)\n",
      "Requirement already satisfied: numpy in /home/bictole/.local/lib/python3.10/site-packages (1.22.2)\n",
      "Requirement already satisfied: ipympl in /home/bictole/.local/lib/python3.10/site-packages (0.9.2)\n",
      "Requirement already satisfied: opencv-python in /home/bictole/.local/lib/python3.10/site-packages (4.6.0.66)\n",
      "Requirement already satisfied: cycler>=0.10 in /home/bictole/.local/lib/python3.10/site-packages (from matplotlib) (0.11.0)\n",
      "Requirement already satisfied: fonttools>=4.22.0 in /home/bictole/.local/lib/python3.10/site-packages (from matplotlib) (4.29.1)\n",
      "Requirement already satisfied: packaging>=20.0 in /usr/lib/python3.10/site-packages (from matplotlib) (21.3)\n",
      "Requirement already satisfied: pillow>=6.2.0 in /home/bictole/.local/lib/python3.10/site-packages (from matplotlib) (9.1.0)\n",
      "Requirement already satisfied: python-dateutil>=2.7 in /home/bictole/.local/lib/python3.10/site-packages (from matplotlib) (2.8.2)\n",
      "Requirement already satisfied: kiwisolver>=1.0.1 in /home/bictole/.local/lib/python3.10/site-packages (from matplotlib) (1.3.2)\n",
      "Requirement already satisfied: pyparsing>=2.2.1 in /usr/lib/python3.10/site-packages (from matplotlib) (3.0.9)\n",
      "Requirement already satisfied: ipython-genutils in /home/bictole/.local/lib/python3.10/site-packages (from ipympl) (0.2.0)\n",
      "Requirement already satisfied: traitlets<6 in /home/bictole/.local/lib/python3.10/site-packages (from ipympl) (5.1.1)\n",
      "Requirement already satisfied: ipython<9 in /home/bictole/.local/lib/python3.10/site-packages (from ipympl) (8.1.0)\n",
      "Requirement already satisfied: ipywidgets<9,>=7.6.0 in /home/bictole/.local/lib/python3.10/site-packages (from ipympl) (7.6.5)\n",
      "Requirement already satisfied: setuptools>=18.5 in /usr/lib/python3.10/site-packages (from ipython<9->ipympl) (63.4.3)\n",
      "Requirement already satisfied: decorator in /home/bictole/.local/lib/python3.10/site-packages (from ipython<9->ipympl) (5.1.1)\n",
      "Requirement already satisfied: pexpect>4.3 in /home/bictole/.local/lib/python3.10/site-packages (from ipython<9->ipympl) (4.8.0)\n",
      "Requirement already satisfied: matplotlib-inline in /home/bictole/.local/lib/python3.10/site-packages (from ipython<9->ipympl) (0.1.3)\n",
      "Requirement already satisfied: pygments>=2.4.0 in /home/bictole/.local/lib/python3.10/site-packages (from ipython<9->ipympl) (2.11.2)\n",
      "Requirement already satisfied: backcall in /home/bictole/.local/lib/python3.10/site-packages (from ipython<9->ipympl) (0.2.0)\n",
      "Requirement already satisfied: prompt-toolkit!=3.0.0,!=3.0.1,<3.1.0,>=2.0.0 in /home/bictole/.local/lib/python3.10/site-packages (from ipython<9->ipympl) (3.0.28)\n",
      "Requirement already satisfied: jedi>=0.16 in /home/bictole/.local/lib/python3.10/site-packages (from ipython<9->ipympl) (0.18.1)\n",
      "Requirement already satisfied: stack-data in /home/bictole/.local/lib/python3.10/site-packages (from ipython<9->ipympl) (0.2.0)\n",
      "Requirement already satisfied: pickleshare in /home/bictole/.local/lib/python3.10/site-packages (from ipython<9->ipympl) (0.7.5)\n",
      "Requirement already satisfied: nbformat>=4.2.0 in /home/bictole/.local/lib/python3.10/site-packages (from ipywidgets<9,>=7.6.0->ipympl) (5.1.3)\n",
      "Requirement already satisfied: widgetsnbextension~=3.5.0 in /home/bictole/.local/lib/python3.10/site-packages (from ipywidgets<9,>=7.6.0->ipympl) (3.5.2)\n",
      "Requirement already satisfied: jupyterlab-widgets>=1.0.0 in /home/bictole/.local/lib/python3.10/site-packages (from ipywidgets<9,>=7.6.0->ipympl) (1.0.2)\n",
      "Requirement already satisfied: ipykernel>=4.5.1 in /home/bictole/.local/lib/python3.10/site-packages (from ipywidgets<9,>=7.6.0->ipympl) (6.9.1)\n",
      "Requirement already satisfied: six>=1.5 in /usr/lib/python3.10/site-packages (from python-dateutil>=2.7->matplotlib) (1.16.0)\n",
      "Requirement already satisfied: jupyter-client<8.0 in /home/bictole/.local/lib/python3.10/site-packages (from ipykernel>=4.5.1->ipywidgets<9,>=7.6.0->ipympl) (7.1.2)\n",
      "Requirement already satisfied: nest-asyncio in /home/bictole/.local/lib/python3.10/site-packages (from ipykernel>=4.5.1->ipywidgets<9,>=7.6.0->ipympl) (1.5.4)\n",
      "Requirement already satisfied: debugpy<2.0,>=1.0.0 in /home/bictole/.local/lib/python3.10/site-packages (from ipykernel>=4.5.1->ipywidgets<9,>=7.6.0->ipympl) (1.5.1)\n",
      "Requirement already satisfied: tornado<7.0,>=4.2 in /home/bictole/.local/lib/python3.10/site-packages (from ipykernel>=4.5.1->ipywidgets<9,>=7.6.0->ipympl) (6.1)\n",
      "Requirement already satisfied: parso<0.9.0,>=0.8.0 in /home/bictole/.local/lib/python3.10/site-packages (from jedi>=0.16->ipython<9->ipympl) (0.8.3)\n",
      "Requirement already satisfied: jsonschema!=2.5.0,>=2.4 in /home/bictole/.local/lib/python3.10/site-packages (from nbformat>=4.2.0->ipywidgets<9,>=7.6.0->ipympl) (4.4.0)\n",
      "Requirement already satisfied: jupyter-core in /home/bictole/.local/lib/python3.10/site-packages (from nbformat>=4.2.0->ipywidgets<9,>=7.6.0->ipympl) (4.9.2)\n",
      "Requirement already satisfied: ptyprocess>=0.5 in /home/bictole/.local/lib/python3.10/site-packages (from pexpect>4.3->ipython<9->ipympl) (0.7.0)\n",
      "Requirement already satisfied: wcwidth in /home/bictole/.local/lib/python3.10/site-packages (from prompt-toolkit!=3.0.0,!=3.0.1,<3.1.0,>=2.0.0->ipython<9->ipympl) (0.2.5)\n",
      "Requirement already satisfied: notebook>=4.4.1 in /home/bictole/.local/lib/python3.10/site-packages (from widgetsnbextension~=3.5.0->ipywidgets<9,>=7.6.0->ipympl) (6.4.8)\n",
      "Requirement already satisfied: asttokens in /home/bictole/.local/lib/python3.10/site-packages (from stack-data->ipython<9->ipympl) (2.0.5)\n",
      "Requirement already satisfied: executing in /home/bictole/.local/lib/python3.10/site-packages (from stack-data->ipython<9->ipympl) (0.8.2)\n",
      "Requirement already satisfied: pure-eval in /home/bictole/.local/lib/python3.10/site-packages (from stack-data->ipython<9->ipympl) (0.2.2)\n",
      "Requirement already satisfied: attrs>=17.4.0 in /usr/lib/python3.10/site-packages (from jsonschema!=2.5.0,>=2.4->nbformat>=4.2.0->ipywidgets<9,>=7.6.0->ipympl) (22.1.0)\n",
      "Requirement already satisfied: pyrsistent!=0.17.0,!=0.17.1,!=0.17.2,>=0.14.0 in /home/bictole/.local/lib/python3.10/site-packages (from jsonschema!=2.5.0,>=2.4->nbformat>=4.2.0->ipywidgets<9,>=7.6.0->ipympl) (0.18.1)\n",
      "Requirement already satisfied: entrypoints in /home/bictole/.local/lib/python3.10/site-packages (from jupyter-client<8.0->ipykernel>=4.5.1->ipywidgets<9,>=7.6.0->ipympl) (0.4)\n",
      "Requirement already satisfied: pyzmq>=13 in /home/bictole/.local/lib/python3.10/site-packages (from jupyter-client<8.0->ipykernel>=4.5.1->ipywidgets<9,>=7.6.0->ipympl) (23.2.0)\n",
      "Requirement already satisfied: terminado>=0.8.3 in /home/bictole/.local/lib/python3.10/site-packages (from notebook>=4.4.1->widgetsnbextension~=3.5.0->ipywidgets<9,>=7.6.0->ipympl) (0.13.1)\n",
      "Requirement already satisfied: prometheus-client in /home/bictole/.local/lib/python3.10/site-packages (from notebook>=4.4.1->widgetsnbextension~=3.5.0->ipywidgets<9,>=7.6.0->ipympl) (0.13.1)\n",
      "Requirement already satisfied: Send2Trash>=1.8.0 in /home/bictole/.local/lib/python3.10/site-packages (from notebook>=4.4.1->widgetsnbextension~=3.5.0->ipywidgets<9,>=7.6.0->ipympl) (1.8.0)\n",
      "Requirement already satisfied: jinja2 in /home/bictole/.local/lib/python3.10/site-packages (from notebook>=4.4.1->widgetsnbextension~=3.5.0->ipywidgets<9,>=7.6.0->ipympl) (3.0.3)\n",
      "Requirement already satisfied: nbconvert in /home/bictole/.local/lib/python3.10/site-packages (from notebook>=4.4.1->widgetsnbextension~=3.5.0->ipywidgets<9,>=7.6.0->ipympl) (6.4.2)\n",
      "Requirement already satisfied: argon2-cffi in /home/bictole/.local/lib/python3.10/site-packages (from notebook>=4.4.1->widgetsnbextension~=3.5.0->ipywidgets<9,>=7.6.0->ipympl) (21.3.0)\n",
      "Requirement already satisfied: argon2-cffi-bindings in /home/bictole/.local/lib/python3.10/site-packages (from argon2-cffi->notebook>=4.4.1->widgetsnbextension~=3.5.0->ipywidgets<9,>=7.6.0->ipympl) (21.2.0)\n",
      "Requirement already satisfied: MarkupSafe>=2.0 in /usr/lib/python3.10/site-packages (from jinja2->notebook>=4.4.1->widgetsnbextension~=3.5.0->ipywidgets<9,>=7.6.0->ipympl) (2.1.1)\n",
      "Requirement already satisfied: jupyterlab-pygments in /home/bictole/.local/lib/python3.10/site-packages (from nbconvert->notebook>=4.4.1->widgetsnbextension~=3.5.0->ipywidgets<9,>=7.6.0->ipympl) (0.1.2)\n",
      "Requirement already satisfied: nbclient<0.6.0,>=0.5.0 in /home/bictole/.local/lib/python3.10/site-packages (from nbconvert->notebook>=4.4.1->widgetsnbextension~=3.5.0->ipywidgets<9,>=7.6.0->ipympl) (0.5.11)\n",
      "Requirement already satisfied: defusedxml in /home/bictole/.local/lib/python3.10/site-packages (from nbconvert->notebook>=4.4.1->widgetsnbextension~=3.5.0->ipywidgets<9,>=7.6.0->ipympl) (0.7.1)\n",
      "Requirement already satisfied: mistune<2,>=0.8.1 in /home/bictole/.local/lib/python3.10/site-packages (from nbconvert->notebook>=4.4.1->widgetsnbextension~=3.5.0->ipywidgets<9,>=7.6.0->ipympl) (0.8.4)\n",
      "Requirement already satisfied: testpath in /home/bictole/.local/lib/python3.10/site-packages (from nbconvert->notebook>=4.4.1->widgetsnbextension~=3.5.0->ipywidgets<9,>=7.6.0->ipympl) (0.6.0)\n",
      "Requirement already satisfied: bleach in /home/bictole/.local/lib/python3.10/site-packages (from nbconvert->notebook>=4.4.1->widgetsnbextension~=3.5.0->ipywidgets<9,>=7.6.0->ipympl) (4.1.0)\n",
      "Requirement already satisfied: pandocfilters>=1.4.1 in /home/bictole/.local/lib/python3.10/site-packages (from nbconvert->notebook>=4.4.1->widgetsnbextension~=3.5.0->ipywidgets<9,>=7.6.0->ipympl) (1.5.0)\n",
      "Requirement already satisfied: cffi>=1.0.1 in /usr/lib/python3.10/site-packages (from argon2-cffi-bindings->argon2-cffi->notebook>=4.4.1->widgetsnbextension~=3.5.0->ipywidgets<9,>=7.6.0->ipympl) (1.15.1)\n",
      "Requirement already satisfied: webencodings in /home/bictole/.local/lib/python3.10/site-packages (from bleach->nbconvert->notebook>=4.4.1->widgetsnbextension~=3.5.0->ipywidgets<9,>=7.6.0->ipympl) (0.5.1)\n",
      "Requirement already satisfied: pycparser in /usr/lib/python3.10/site-packages (from cffi>=1.0.1->argon2-cffi-bindings->argon2-cffi->notebook>=4.4.1->widgetsnbextension~=3.5.0->ipywidgets<9,>=7.6.0->ipympl) (2.21)\n",
      "\n",
      "\u001b[1m[\u001b[0m\u001b[34;49mnotice\u001b[0m\u001b[1;39;49m]\u001b[0m\u001b[39;49m A new release of pip available: \u001b[0m\u001b[31;49m22.3\u001b[0m\u001b[39;49m -> \u001b[0m\u001b[32;49m22.3.1\u001b[0m\n",
      "\u001b[1m[\u001b[0m\u001b[34;49mnotice\u001b[0m\u001b[1;39;49m]\u001b[0m\u001b[39;49m To update, run: \u001b[0m\u001b[32;49mpip install --upgrade pip\u001b[0m\n",
      "usage: jupyter [-h] [--version] [--config-dir] [--data-dir] [--runtime-dir]\n",
      "               [--paths] [--json] [--debug]\n",
      "               [subcommand]\n",
      "\n",
      "Jupyter: Interactive Computing\n",
      "\n",
      "positional arguments:\n",
      "  subcommand     the subcommand to launch\n",
      "\n",
      "options:\n",
      "  -h, --help     show this help message and exit\n",
      "  --version      show the versions of core jupyter packages and exit\n",
      "  --config-dir   show Jupyter config dir\n",
      "  --data-dir     show Jupyter data dir\n",
      "  --runtime-dir  show Jupyter runtime dir\n",
      "  --paths        show all Jupyter paths. Add --json for machine-readable\n",
      "                 format.\n",
      "  --json         output paths as machine-readable json\n",
      "  --debug        output debug information about paths\n",
      "\n",
      "Available subcommands: bundlerextension console dejavu execute kernel\n",
      "kernelspec migrate nbconvert nbextension notebook qtconsole run\n",
      "serverextension troubleshoot trust\n",
      "\n",
      "Jupyter command `jupyter-labextension` not found.\n",
      "usage: jupyter [-h] [--version] [--config-dir] [--data-dir] [--runtime-dir]\n",
      "               [--paths] [--json] [--debug]\n",
      "               [subcommand]\n",
      "\n",
      "Jupyter: Interactive Computing\n",
      "\n",
      "positional arguments:\n",
      "  subcommand     the subcommand to launch\n",
      "\n",
      "options:\n",
      "  -h, --help     show this help message and exit\n",
      "  --version      show the versions of core jupyter packages and exit\n",
      "  --config-dir   show Jupyter config dir\n",
      "  --data-dir     show Jupyter data dir\n",
      "  --runtime-dir  show Jupyter runtime dir\n",
      "  --paths        show all Jupyter paths. Add --json for machine-readable\n",
      "                 format.\n",
      "  --json         output paths as machine-readable json\n",
      "  --debug        output debug information about paths\n",
      "\n",
      "Available subcommands: bundlerextension console dejavu execute kernel\n",
      "kernelspec migrate nbconvert nbextension notebook qtconsole run\n",
      "serverextension troubleshoot trust\n",
      "\n",
      "Jupyter command `jupyter-labextension` not found.\n"
     ]
    }
   ],
   "source": [
    "! pip install matplotlib tqdm numpy ipympl opencv-python\n",
    "!jupyter labextension install @jupyter-widgets/jupyterlab-manager\n",
    "!jupyter labextension install jupyter-matplotlib"
   ]
  },
  {
   "cell_type": "code",
   "execution_count": 3,
   "metadata": {},
   "outputs": [],
   "source": [
    "%load_ext autoreload\n",
    "%autoreload 2\n",
    "%matplotlib inline \n",
    "\n",
    "import typing as t\n",
    "import math\n",
    "import torch\n",
    "import numpy as np\n",
    "from tqdm.auto import trange, tqdm\n",
    "import matplotlib.pyplot as plt\n",
    "from matplotlib.animation import FuncAnimation\n",
    "import matplotlib.animation as animation\n",
    "from matplotlib.backends.backend_agg import FigureCanvasAgg as FigureCanvas\n",
    "import cv2\n",
    "from IPython.display import display, clear_output\n",
    "\n",
    "torch.random.manual_seed(0)\n",
    "\n",
    "K = 5 # num arms"
   ]
  },
  {
   "cell_type": "markdown",
   "metadata": {},
   "source": [
    "# Présentation du problème"
   ]
  },
  {
   "cell_type": "code",
   "execution_count": 4,
   "metadata": {},
   "outputs": [],
   "source": [
    "class ArmBernoulli:\n",
    "    def __init__(self, p: float, random_state: t.Optional[int] = None):\n",
    "        \"\"\"\n",
    "        Vaccine treatment following a Bernoulli law (mean is p and variance is p(1-p)\n",
    "        Args:\n",
    "             p (float): mean parameter\n",
    "             random_state (int): seed to make experiments reproducible\n",
    "             \n",
    "        >>> arm = ArmBernoulli(0.5, 0)\n",
    "        >>> arm.sample(5)\n",
    "        tensor([ True, False,  True,  True,  True])\n",
    "        \"\"\"\n",
    "        if random_state is not None:\n",
    "            torch.random.manual_seed(random_state)\n",
    "        self.immunity_rate = p\n",
    "\n",
    "    def sample(self, n: int = 1):\n",
    "        return torch.rand(n) < self.immunity_rate\n",
    "    \n",
    "    def __repr__(self):\n",
    "        return f'<ArmBernoulli p={self.immunity_rate}' \n",
    "\n",
    "def generate_arms(num_arms: int):\n",
    "    means = torch.rand(K)\n",
    "    MAB = [ArmBernoulli(m) for m in means]\n",
    "    assert MAB[0].immunity_rate == means[0]\n",
    "    assert (MAB[0].sample(10) <= 1).all() and (MAB[0].sample(10) >= 0).all() \n",
    "    return MAB\n",
    "\n",
    "MAB = generate_arms(K)"
   ]
  },
  {
   "cell_type": "markdown",
   "metadata": {},
   "source": [
    "**Note importante :** pour la suite, les tests seront faits avec 10 MAB différents ou plus pour réduire le bruit de simulation. \n",
    "\n",
    "Ce TP reprend l'exemple du médecin présenté en cours.\n",
    "\n",
    "\n",
    "**Q1. Que vaut $\\mu^*$ avec `random_state = 0`? Comment est définie la récompense $R_k$ ? Que représente concrètement le regret dans cet exemple ?**"
   ]
  },
  {
   "cell_type": "code",
   "execution_count": 5,
   "metadata": {},
   "outputs": [
    {
     "name": "stdout",
     "output_type": "stream",
     "text": [
      "tensor(0.9971)\n"
     ]
    }
   ],
   "source": [
    "def test_generate_10MAB(num_arms: int):\n",
    "    means = torch.rand(K * 10)\n",
    "    DIX_MAB = [ArmBernoulli(m, 0) for m in means]\n",
    "    return DIX_MAB\n",
    "\n",
    "print(max([arm.immunity_rate for arm in test_generate_10MAB(K)]))"
   ]
  },
  {
   "cell_type": "markdown",
   "metadata": {},
   "source": [
    "$\\mu^*$ represente simplement l'`immunity_rate` lorsque `random_state = 0`, ici fixer le `random_state` permet d'avoir une expérience reproductible. On obtient $mu^*$ = 0.9527 avec 10 MAB lors de cette expérience.\n",
    "\n",
    "La récompense $R_k$ est définie comme la récompense obtenue pour le patient k, elle est égale a 1 s’il est immunisé, et 0 sinon.\n",
    "\n",
    "Dans cet exemple, le regret représente concrètement  "
   ]
  },
  {
   "cell_type": "markdown",
   "metadata": {},
   "source": [
    "# I. Cas classique des bandits manchots "
   ]
  },
  {
   "cell_type": "markdown",
   "metadata": {
    "tags": []
   },
   "source": [
    "## I.a. Solution Gloutonne"
   ]
  },
  {
   "cell_type": "markdown",
   "metadata": {},
   "source": [
    "Le médecin fonctionne sur deux phases :\n",
    "\n",
    "1. **Exploration :** N patients reçoivent une dose d'un vaccin choisi aléatoirement. Le médecin calcule le taux d'immunisation empirique :\n",
    "\n",
    "$$\\bar{R_i} = \\frac{1}{T_i} \\sum_{k=0}^{N-1} \\chi_{v_k,i}R_k,$$\n",
    "\n",
    "avec $T_i = \\sum_{k=0}^{N-1} \\chi_{v_k,i}$.\n",
    "\n",
    "\n",
    "2. **Exploitation :** Le vaccin $v_i = \\arg\\max_j \\bar{R_j}$ est utilisé pour les M patients suivants. C'est la phase de test.\n",
    "\n",
    "**Q2. Implémentez la solution gloutonne avec N = 50 et M = 500 et testez la avec 100 MAB différents (tous ont 5 vaccins). On s'intéresse à la variable aléatoire \"la phase d'exploration a trouvé le bon vaccin\". Quelle est l'espérance empirique de cette variable ? Et son écart-type ? Calculez de même l'espérance et l'écart-type du regret sur vos 100 simulations.**\n",
    "\n",
    "Pour rappel, le regret est défini par :\n",
    "\n",
    "$$r_n = n\\mu^* - \\sum_{k=0}^{n-1} R_k$$\n",
    "\n",
    "**Attention :** $n$ est le nombre total de patients, donc ici $N + M$."
   ]
  },
  {
   "cell_type": "code",
   "execution_count": 10,
   "metadata": {},
   "outputs": [
    {
     "name": "stdout",
     "output_type": "stream",
     "text": [
      "The best vaccine has for empirical efficency: 1 tensor([0.6667])\n",
      "The best vaccine on TEST SET has for empirical efficency: 1 tensor([0.7593])\n",
      "The regret on TEST SET is: tensor([204.6296])\n",
      "La moyenne empirique de la VA est : 0.1\n",
      "L'ecart type de la VA est : 0.30000000000000004\n",
      "La moyenne empirique du regret est : 170.09489624023436\n",
      "L'ecart type du regret est : 59.51234\n"
     ]
    }
   ],
   "source": [
    "import random\n",
    "\n",
    "# Solution glutonne\n",
    "def get_vaccines_efficency(vaccines, N):\n",
    "    r_k = [vaccine.sample() for vaccine in vaccines]\n",
    "    T_i = {vaccines[i] : vaccines.count(vaccines[i]) for i in range(N - 1)}\n",
    "    result = []\n",
    "    for vaccine_i in vaccines:\n",
    "        sum_x_rk = 0\n",
    "        k = 0\n",
    "        for vaccine_k in vaccines:\n",
    "            X = int(vaccine_i == vaccine_k)\n",
    "            sum_x_rk += X * r_k[k]\n",
    "            k += 1\n",
    "        result.append((1/T_i[vaccine_i]) * sum_x_rk)\n",
    "    return result\n",
    "    \n",
    "# Regret\n",
    "def get_regret(vaccines, N, nu_star):\n",
    "    r_ks = sum([int(vaccine.sample()) for vaccine in vaccines])\n",
    "    return N * nu_star - r_ks\n",
    "\n",
    "\n",
    "# Liste de tous les vaccins injectés aux Npatients\n",
    "def get_vaccines_injected(N, MAB):\n",
    "    vaccines = []\n",
    "    for _ in range(N):\n",
    "        random_vac = random.randint(0, K - 1)\n",
    "        # ADD THE VACCINE OBJECT IN LIST (tuple?)\n",
    "        vaccines.append(MAB[random_vac])\n",
    "    return vaccines\n",
    "\n",
    "N = 50\n",
    "M = 500\n",
    "\n",
    "# On génére les résultats d'une injection à N patients\n",
    "vaccines_train = get_vaccines_injected(N, MAB)\n",
    "\n",
    "# On choisit le meilleur vaccin d'après le batch de test de N patient\n",
    "R_i = get_vaccines_efficency(vaccines_train, N)\n",
    "\n",
    "best_vaccine_i = R_i.index(max(R_i))\n",
    "print(\"The best vaccine has for empirical efficency:\",  best_vaccine_i, max(R_i))\n",
    "\n",
    "# On verifie par batch si c'est le bon vaccin\n",
    "vaccines_test = get_vaccines_injected(M, MAB)\n",
    "R_i_test = get_vaccines_efficency(vaccines_test, M)\n",
    "best_vaccine_i_test = R_i_test.index(max(R_i_test))\n",
    "print(\"The best vaccine on TEST SET has for empirical efficency:\",  best_vaccine_i_test, max(R_i_test))\n",
    "\n",
    "# S'il est mauvais on choisit un nouveau vaccin en recalculant les R_i (N + m)\n",
    "\n",
    "# On refait l'opération jusqu'à avoir fait tout le batch de M patients\n",
    "\n",
    "# On calcule le regret avec la mean du meilleur vaccin trouvé sur les M patients\n",
    "nu_star = max(R_i_test)\n",
    "regret = get_regret(vaccines_test, M, nu_star)\n",
    "print(\"The regret on TEST SET is:\", regret)\n",
    "\n",
    "# Implementation de l'algorithme pour la q2\n",
    "def q2():\n",
    "    N = 50\n",
    "    M = 500\n",
    "\n",
    "    found_exploration = []\n",
    "    regrets = []\n",
    "\n",
    "    for i in range(100):\n",
    "        new_MAB = generate_arms(K)\n",
    "        vaccines_train = get_vaccines_injected(N, new_MAB)\n",
    "        R_i = get_vaccines_efficency(vaccines_train, N)\n",
    "        best_vaccine_i = R_i.index(max(R_i))\n",
    "\n",
    "        vaccines_test = get_vaccines_injected(M, new_MAB)\n",
    "        R_i_test = get_vaccines_efficency(vaccines_test, M)\n",
    "        best_vaccine_i_test = R_i_test.index(max(R_i_test))\n",
    "\n",
    "        found_exploration.append(best_vaccine_i == best_vaccine_i_test)\n",
    "\n",
    "        nu_star = max(R_i_test)\n",
    "        regret = get_regret(vaccines_test, M, nu_star)\n",
    "        regrets.append(regret.numpy()[0])\n",
    "    \n",
    "    print(\"La moyenne empirique de la VA est :\", sum(found_exploration)/len(found_exploration))\n",
    "    print(\"L'ecart type de la VA est :\", np.std(found_exploration))\n",
    "\n",
    "    print(\"La moyenne empirique du regret est :\", sum(regrets)/len(regrets))\n",
    "    print(\"L'ecart type du regret est :\", np.std(regrets))\n",
    "\n",
    "q2()"
   ]
  },
  {
   "cell_type": "markdown",
   "metadata": {},
   "source": [
    "**Q3. On propose d'améliorer l'algorithme précédant en mettant à jour les taux d'immunisation empiriques $\\bar{R}_i$ pendant la d'exploration. Notez vous une amélioration du regret ? Proposez un exemple dans lequel cette mise à jour ne changera rien.** "
   ]
  },
  {
   "cell_type": "markdown",
   "metadata": {},
   "source": [
    "*[Ajoutez votre commentaire ici]*"
   ]
  },
  {
   "cell_type": "markdown",
   "metadata": {},
   "source": [
    "**Q4. Créez une figure contenant deux sous-figures : à gauche, le taux d'immunisation empirique $\\bar{R}_i$ pour les 5 vaccins ; à droite, le regret $r_n$. La figure sera animée avec les patients : chaque frame $k$ de l'animation représente le vaccin que l'on donne au $k$-ième patient.**"
   ]
  },
  {
   "cell_type": "code",
   "execution_count": null,
   "metadata": {},
   "outputs": [],
   "source": []
  },
  {
   "cell_type": "markdown",
   "metadata": {},
   "source": [
    "*[Ajoutez votre commentaire ici]*"
   ]
  },
  {
   "cell_type": "markdown",
   "metadata": {},
   "source": [
    "**Q5. On étudie maintenant l'influence de la taille du training set $N$. On considère que N+M est une constante, puis on fait varier N entre K et M. Calculez le regret pour ces différentes tailles du training set  différents MAB et representez le regret moyen, le regret min et max (vous devriez trouver une courbe en U ou en V pour le regret moyen). Quelle est la taille optimale du training set ?**"
   ]
  },
  {
   "cell_type": "code",
   "execution_count": null,
   "metadata": {},
   "outputs": [],
   "source": []
  },
  {
   "cell_type": "markdown",
   "metadata": {},
   "source": [
    "*[Ajoutez votre commentaire ici]*"
   ]
  },
  {
   "cell_type": "markdown",
   "metadata": {
    "tags": []
   },
   "source": [
    "## I.b. Borne inférieure de Lai & Robbins [Lai et Robbins, 1985]"
   ]
  },
  {
   "cell_type": "markdown",
   "metadata": {},
   "source": [
    "Pour un modèle de manchot de Bernoulli (équivalent au problème étudié), la borne inférieure de Lai et Robbins [Lai et Robbins, 1985] stipule que :\n",
    "\n",
    "$$\\lim \\inf_{n\\rightarrow \\infty} \\frac{\\sum_{k=0}^{n-1} R_k}{\\log n} \\geq \\sum_{i~\\text{tel que}~\\mu_i \\lt \\mu^*} \\frac{\\mu^∗−\\mu_i}{\\text{KL}(\\mu_i, \\mu^*)}  :=C(\\mu)$$\n",
    " \n",
    " avec $\\text{KL}(x, y) = x \\log(x/y) + (1 − x) \\log((1 − x)/(1 − y))$ (distance de Kullback-Leibler) et  $\\sum_{k=0}^{n-1} R_k$ la récompense obtenue sur $n$ patients (avec un algorithme optimal). \n",
    " \n",
    " \n",
    "**Q6. Justifiez pourquoi cette borne signifie que la machine optimale est jouée exponentiellement plus souvent que les autres machines.**"
   ]
  },
  {
   "cell_type": "markdown",
   "metadata": {},
   "source": [
    "*[Ajoutez votre commentaire ici]*"
   ]
  },
  {
   "cell_type": "markdown",
   "metadata": {},
   "source": [
    "**Q7. Tracez le regret issu de la borne de Lai & Robbins et comparez le au regret obtenu avec l'algorithme glouton.**"
   ]
  },
  {
   "cell_type": "code",
   "execution_count": null,
   "metadata": {},
   "outputs": [],
   "source": []
  },
  {
   "cell_type": "markdown",
   "metadata": {},
   "source": [
    "*[Ajoutez votre commentaire ici]*"
   ]
  },
  {
   "cell_type": "markdown",
   "metadata": {},
   "source": [
    "## I.c. Upper Confidence Bounds"
   ]
  },
  {
   "cell_type": "markdown",
   "metadata": {},
   "source": [
    "Cet algorithme améliore la version précédente en ajoutant un biais lié à la fréquentation de chaque vaccin :\n",
    "\n",
    "$$\\hat{R}_i = \\bar{R}_i + \\sqrt{\\frac{C\\log{n}}{T_i}}$$,\n",
    "\n",
    "avec $C=2$.\n",
    "\n",
    "**Q8. Implémentez la modification de cette algorithme. Conservez les deux phases exploration/exploitation décrites ci-dessus. En prenant les valeurs de $N$ et $M$ trouvées à la question Q5, quel regret obtenez-vous ? Faites l'expérience avec au moins 10 MAB différents (tous ayant 5 vaccins) afin de calculer la moyenne et l'écart-type du regret.**"
   ]
  },
  {
   "cell_type": "code",
   "execution_count": null,
   "metadata": {},
   "outputs": [],
   "source": []
  },
  {
   "cell_type": "markdown",
   "metadata": {},
   "source": [
    "*[Ajoutez votre commentaire ici]*"
   ]
  },
  {
   "cell_type": "markdown",
   "metadata": {},
   "source": [
    "**Q9. Reprenez la questions Q4 avec cette algorithme. Dans la figure de gauche, vous representerez $\\bar{R}_i$ et $\\hat{R}_i$.**"
   ]
  },
  {
   "cell_type": "code",
   "execution_count": null,
   "metadata": {},
   "outputs": [],
   "source": []
  },
  {
   "cell_type": "markdown",
   "metadata": {},
   "source": [
    "*[Ajoutez votre commentaire ici]*"
   ]
  },
  {
   "cell_type": "markdown",
   "metadata": {},
   "source": [
    "**Q10. Reprenez la question Q5 avec cette algorithme. Concluez sur l'utilité (ou l'inutilité) de la phase d'exploration. Comparez les performances d'UCB avec celles de l'algorithme glouton.**"
   ]
  },
  {
   "cell_type": "code",
   "execution_count": null,
   "metadata": {},
   "outputs": [],
   "source": []
  },
  {
   "cell_type": "markdown",
   "metadata": {},
   "source": [
    "*[Ajoutez votre commentaire ici]*"
   ]
  },
  {
   "cell_type": "markdown",
   "metadata": {},
   "source": [
    "**Q11. Testez différentes valeurs pour $C$ et trouvez sa valeur optimale expérimentalement.**"
   ]
  },
  {
   "cell_type": "code",
   "execution_count": null,
   "metadata": {},
   "outputs": [],
   "source": []
  },
  {
   "cell_type": "markdown",
   "metadata": {},
   "source": [
    "*[Ajoutez votre commentaire ici]*"
   ]
  },
  {
   "cell_type": "markdown",
   "metadata": {},
   "source": [
    "# Echantillonnage de Thomson\n",
    "\n",
    "Cet algorithme propose de modéliser la variable aléatoire de chaque vaccin avec une loi $\\beta$ dont les paramètres $a$ et $b$ correspondent au nombre de patients que le vaccin a immunisés (resp. non immunisés).\n",
    "\n",
    "Pour chaque patient, on tire un valeur aléatoire pour la loi $\\beta$ décrivant chaque vaccin, puis on choisit le vaccin avec la plus grande valeur tirée. "
   ]
  },
  {
   "cell_type": "markdown",
   "metadata": {},
   "source": [
    "**Q12. Implémentez cet algorithme. Conservez les deux phases exploration/exploitation décrites ci-dessus. En prenant les valeurs de $N$ et $M$ trouvées à la question Q5, quel regret obtenez-vous ? Faites l'expérience avec au moins 10 MAB différents (tous ayant 5 vaccins) afin de calculer la moyenne et l'écart-type du regret.**"
   ]
  },
  {
   "cell_type": "code",
   "execution_count": null,
   "metadata": {},
   "outputs": [],
   "source": []
  },
  {
   "cell_type": "markdown",
   "metadata": {},
   "source": [
    "*[Ajoutez votre commentaire ici]*"
   ]
  },
  {
   "cell_type": "markdown",
   "metadata": {},
   "source": [
    "**Q13. Reprenez la question Q4, mais cette fois-ci, vous representerez le taux d'immunisation empirique avec un [graphique en violon](https://en.wikipedia.org/wiki/Violin_plot) qui représente la loi beta associée à chaque vaccin.**"
   ]
  },
  {
   "cell_type": "code",
   "execution_count": null,
   "metadata": {},
   "outputs": [],
   "source": []
  },
  {
   "cell_type": "markdown",
   "metadata": {},
   "source": [
    "*[Ajoutez votre commentaire ici]*"
   ]
  },
  {
   "cell_type": "markdown",
   "metadata": {},
   "source": [
    "**Q14. Représentez son regret pour différentes tailles du training set (comme dans la Q5). Comparez le regret avec les autres algorithmes.**"
   ]
  },
  {
   "cell_type": "code",
   "execution_count": null,
   "metadata": {},
   "outputs": [],
   "source": []
  },
  {
   "cell_type": "markdown",
   "metadata": {},
   "source": [
    "*[Ajoutez votre commentaire ici]*"
   ]
  },
  {
   "cell_type": "markdown",
   "metadata": {},
   "source": [
    "# Conclusion\n",
    "\n",
    "**Q15. Calculez le regret des algorithmes glouton, UCB & Thomson lorsqu'il y a un grand nombre de vaccins disponibles (K=100) (on prendra N=100). Faites le lien avec la [malédiction de la dimension](https://fr.wikipedia.org/wiki/Fl%C3%A9au_de_la_dimension).**"
   ]
  },
  {
   "cell_type": "code",
   "execution_count": null,
   "metadata": {},
   "outputs": [],
   "source": []
  },
  {
   "cell_type": "markdown",
   "metadata": {},
   "source": [
    "*[Ajoutez votre commentaire ici]*"
   ]
  }
 ],
 "metadata": {
  "kernelspec": {
   "display_name": "Python 3.10.8 ('usr')",
   "language": "python",
   "name": "python3"
  },
  "language_info": {
   "codemirror_mode": {
    "name": "ipython",
    "version": 3
   },
   "file_extension": ".py",
   "mimetype": "text/x-python",
   "name": "python",
   "nbconvert_exporter": "python",
   "pygments_lexer": "ipython3",
   "version": "3.10.8"
  },
  "vscode": {
   "interpreter": {
    "hash": "767d51c1340bd893661ea55ea3124f6de3c7a262a8b4abca0554b478b1e2ff90"
   }
  }
 },
 "nbformat": 4,
 "nbformat_minor": 4
}
