{
 "cells": [
  {
   "cell_type": "markdown",
   "metadata": {
    "tags": []
   },
   "source": [
    "# Introduction à l'apprentissage par renforcement\n",
    "# TP 1 - les manchots multi-bras\n",
    "\n",
    "Etudiant·e : AJOUTER VOTRE NOM ICI\n",
    "\n",
    "1/4 de la note finale est liée à la mise en forme : \n",
    "\n",
    "* pensez à nettoyer les outputs inutiles (installation, messages de débuggage, ...)\n",
    "* soignez vos figures : les axes sont-ils faciles à comprendre ? L'échelle est adaptée ? \n",
    "* commentez vos résultats : vous attendiez-vous à les avoir ? Est-ce étonnant ? Faites le lien avec la théorie.\n",
    "\n",
    "Ce TP reprend l'exemple d'un médecin et de ses vaccins. Vous allez comparer plusieurs stratégies et trouver celle optimale.\n",
    "Un TP se fait en groupe de 2 à 4. Aucun groupe de plus de 4 personnes. \n",
    "\n",
    "Vous allez rendre le TP dans une archive ZIP. L'archive ZIP contient ce notebook au format `ipynb`, mais aussi exporté en PDF & HTML. \n",
    "L'archive ZIP doit aussi contenir un fichier txt appelé `groupe.txt` sous le format:\n",
    "\n",
    "```\n",
    "Nom1, Prenom1, Email1, NumEtudiant1\n",
    "Nom2, Prenom2, Email2, NumEtudiant2\n",
    "Nom3, Prenom3, Email3, NumEtudiant3\n",
    "Nom4, Prenom4, Email4, NumEtudiant4\n",
    "```\n",
    "\n",
    "Un script vient extraire vos réponses : ne changez pas l'ordre des cellules et soyez sûrs que les graphes sont bien présents dans la version notebook soumise. "
   ]
  },
  {
   "cell_type": "code",
   "execution_count": null,
   "metadata": {},
   "outputs": [],
   "source": [
    "! pip install matplotlib tqdm numpy ipympl opencv-python\n",
    "!jupyter labextension install @jupyter-widgets/jupyterlab-manager\n",
    "!jupyter labextension install jupyter-matplotlib"
   ]
  },
  {
   "cell_type": "code",
   "execution_count": 2,
   "metadata": {},
   "outputs": [],
   "source": [
    "%load_ext autoreload\n",
    "%autoreload 2\n",
    "%matplotlib inline \n",
    "\n",
    "import math\n",
    "import torch\n",
    "import numpy as np\n",
    "from tqdm.auto import trange, tqdm\n",
    "import matplotlib.pyplot as plt\n",
    "from matplotlib.animation import FuncAnimation\n",
    "import matplotlib.animation as animation\n",
    "from matplotlib.backends.backend_agg import FigureCanvasAgg as FigureCanvas\n",
    "import cv2\n",
    "from IPython.display import display, clear_output\n",
    "\n",
    "torch.random.manual_seed(1)\n",
    "\n",
    "K = 5 # num arms"
   ]
  },
  {
   "cell_type": "markdown",
   "metadata": {},
   "source": [
    "# Définition des vaccins"
   ]
  },
  {
   "cell_type": "code",
   "execution_count": null,
   "metadata": {},
   "outputs": [],
   "source": [
    "class ArmBernoulli:\n",
    "    def __init__(self, p: float):\n",
    "        \"\"\"\n",
    "        Vaccine treatment following a Bernoulli law\n",
    "        Args:\n",
    "             p (float): mean parameter\n",
    "             random_state (int): seed to make experiments reproducible\n",
    "        \"\"\"\n",
    "        self.mean = p\n",
    "        self.variance = p * (1. - p)\n",
    "\n",
    "    def sample(self):\n",
    "        return torch.rand(1) < self.mean\n",
    "    \n",
    "    def __repr__(self):\n",
    "        return f'<ArmBernoulli p={self.mean}' \n",
    "\n",
    "def generate_arms(num_arms: int):\n",
    "    means = torch.rand(K)\n",
    "    MAB = [ArmBernoulli(m) for m in means]\n",
    "    assert(MAB[0].mean == means[0])\n",
    "    return MAB\n",
    "\n",
    "MAB = generate_arms(K)"
   ]
  },
  {
   "cell_type": "markdown",
   "metadata": {},
   "source": [
    "# I. Cas classique des bandits manchots "
   ]
  },
  {
   "cell_type": "markdown",
   "metadata": {
    "tags": []
   },
   "source": [
    "## I.a. Solution Gloutonne"
   ]
  },
  {
   "cell_type": "markdown",
   "metadata": {},
   "source": [
    "Le médecin fonctionne sur deux phases :\n",
    "\n",
    "1. Pendant l'exploration, N patients reçoivent une dose d'un vaccin choisi aléatoirement.\n",
    "2. Pendant l'exploitation, le vaccin procurant le meilleur taux d'immunisation est choisi pour les M patients suivants.\n",
    "\n",
    "**1. Implémentez l'algorithme du médecin avec N = 50 et M = 500. Trouvez-vous le meilleur vaccin ? Quel regret obtenez sur l'ensemble des patients ? Faites le test pour 10 valeurs moyennes de MAB**"
   ]
  },
  {
   "cell_type": "code",
   "execution_count": null,
   "metadata": {},
   "outputs": [],
   "source": []
  },
  {
   "cell_type": "markdown",
   "metadata": {},
   "source": [
    "**2. Tracez le regret et la récompense de votre algorithme pour différentes valeurs de N allant de 5 à 400**"
   ]
  },
  {
   "cell_type": "code",
   "execution_count": null,
   "metadata": {},
   "outputs": [],
   "source": []
  },
  {
   "cell_type": "markdown",
   "metadata": {
    "tags": []
   },
   "source": [
    "## I.b. Borne inférieure de Lai & Robbins [Lai et Robbins, 1985]"
   ]
  },
  {
   "cell_type": "markdown",
   "metadata": {},
   "source": [
    "Pour un modèle de manchot de Bernoulli (équivalent au problème étudié), la borne inférieure de Lai et Robbins [Lai et Robbins, 1985] stipule que :\n",
    "\n",
    "$$\\lim \\inf_{T\\rightarrow \\infty} \\frac{R_T}{\\log T} \\geq \\sum_{a:\\mu_a \\lt \\mu^*} \\frac{\\mu^∗−\\mu_a}{kl(\\mu_a, \\mu^*)}  :=C(\\mu)$$\n",
    " \n",
    " avec $kl(x, y) = x \\log(x/y) + (1 − x) \\log((1 − x)/(1 − y))$ et  $R_T$ la récompense obtenue sur $T$ patients. En autres termes, cela signifie que la machine optimale est jouée exponentiellement plus souvent que les autres machines"
   ]
  },
  {
   "cell_type": "markdown",
   "metadata": {},
   "source": [
    "**3. Tracez cette borne au-dessus du graphique précédent**"
   ]
  },
  {
   "cell_type": "code",
   "execution_count": null,
   "metadata": {},
   "outputs": [],
   "source": []
  },
  {
   "cell_type": "markdown",
   "metadata": {},
   "source": [
    "## I.c. Upper Confidence Bounds"
   ]
  },
  {
   "cell_type": "markdown",
   "metadata": {},
   "source": [
    "**4. Implémentez l'algorithme décrit en cours. Visualisez l'évolution de l'index de chaque machine à l'aide de Matplotlib.**"
   ]
  },
  {
   "cell_type": "code",
   "execution_count": null,
   "metadata": {},
   "outputs": [],
   "source": []
  },
  {
   "cell_type": "markdown",
   "metadata": {},
   "source": [
    "**5. Ajoutez un coefficient de votre choix devant le biais pour équilibrer exploration et exploitation et réduire le regret. Représentez sur un même graphique les performances d'UCB avec l'algorithme glouton et la borne inférieure**"
   ]
  },
  {
   "cell_type": "code",
   "execution_count": null,
   "metadata": {},
   "outputs": [],
   "source": []
  },
  {
   "cell_type": "markdown",
   "metadata": {},
   "source": [
    "# Echantillonnage de Thomson"
   ]
  },
  {
   "cell_type": "markdown",
   "metadata": {},
   "source": [
    "**6. Implémentez l'algorithme. Visualisez chaque étape avec un [graphique en violon](https://en.wikipedia.org/wiki/Violin_plot)**"
   ]
  },
  {
   "cell_type": "code",
   "execution_count": null,
   "metadata": {},
   "outputs": [],
   "source": []
  },
  {
   "cell_type": "markdown",
   "metadata": {},
   "source": [
    "**7. Comparez son regret avec les graphiques précédents**"
   ]
  },
  {
   "cell_type": "code",
   "execution_count": null,
   "metadata": {},
   "outputs": [],
   "source": []
  },
  {
   "cell_type": "markdown",
   "metadata": {},
   "source": [
    "# Conclusion\n",
    "\n",
    "**8. Comparez ce qu'il se passe avec un grand nombre de vaccins disponibles (K=100). Faites le lien avec la [malédiction de la dimension](https://fr.wikipedia.org/wiki/Fl%C3%A9au_de_la_dimension).**"
   ]
  },
  {
   "cell_type": "code",
   "execution_count": null,
   "metadata": {},
   "outputs": [],
   "source": []
  },
  {
   "cell_type": "markdown",
   "metadata": {},
   "source": [
    "# BONUS\n",
    "\n",
    "Maintenant, on suppose que l'on peut proposer au patient un mélange des vaccins, c'est-à-dire que l'action choisie est donc une combinaison linéaire des vaccins.\n",
    "\n",
    "**9. Implémenter l'algorithme Lin UCB tel que décrit dans ce document.**\n",
    "\n",
    "https://www.yoanrussac.com/en/talk/talk1-ens/intro_linear_bandits.pdf"
   ]
  },
  {
   "cell_type": "code",
   "execution_count": null,
   "metadata": {},
   "outputs": [],
   "source": []
  }
 ],
 "metadata": {
  "kernelspec": {
   "display_name": "Python 3 (ipykernel)",
   "language": "python",
   "name": "python3"
  },
  "language_info": {
   "codemirror_mode": {
    "name": "ipython",
    "version": 3
   },
   "file_extension": ".py",
   "mimetype": "text/x-python",
   "name": "python",
   "nbconvert_exporter": "python",
   "pygments_lexer": "ipython3",
   "version": "3.8.12"
  }
 },
 "nbformat": 4,
 "nbformat_minor": 4
}
